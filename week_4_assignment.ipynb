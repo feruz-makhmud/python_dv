{
 "cells": [
  {
   "cell_type": "code",
   "execution_count": 1,
   "metadata": {},
   "outputs": [
    {
     "name": "stdout",
     "output_type": "stream",
     "text": [
      "Hello Ted, thank you for logging in again! :)\n",
      "Hello Isabell, thank you for logging in again! :)\n",
      "Hello Javon, thank you for logging in again! :)\n",
      "Hello Ema, thank you for logging in again! :)\n",
      "Hello Admin, would you like to see a status report?\n"
     ]
    }
   ],
   "source": [
    "# Exercise 1\n",
    "\n",
    "usernames = ['Ted', 'Isabell', 'Javon', 'Ema', 'Admin']\n",
    "\n",
    "for username in usernames:\n",
    "    if username == 'Admin':\n",
    "        print(\"Hello Admin, would you like to see a status report?\")\n",
    "    else:\n",
    "        print(f\"Hello {username}, thank you for logging in again! :)\")"
   ]
  },
  {
   "cell_type": "code",
   "execution_count": 2,
   "metadata": {},
   "outputs": [
    {
     "name": "stdout",
     "output_type": "stream",
     "text": [
      "Good news!, username: Jeffrey is availabe.\n",
      "Sorry, username: Admin is not availabe. Please enter a new username!\n",
      "Sorry, username: Annabell is not availabe. Please enter a new username!\n",
      "Good news!, username: Luciana is availabe.\n",
      "Sorry, username: ANNA is not availabe. Please enter a new username!\n",
      "Good news!, username: David is availabe.\n",
      "Sorry, username: Joseph is not availabe. Please enter a new username!\n",
      "Sorry, username: Isabell is not availabe. Please enter a new username!\n"
     ]
    }
   ],
   "source": [
    "# Exercise 2\n",
    "\n",
    "'''Checking Usernames: Do the following to create a program that simulates\n",
    "how websites ensure that everyone has a unique username.\n",
    "• Make a list of five or more usernames called current_users.\n",
    "• Make another list of five usernames called new_users. Make sure one or\n",
    "two of the new usernames are also in the current_users list.\n",
    "• Loop through the new_users list to see if each new username has already\n",
    "been used. If it has, print a message that the person will need to enter a\n",
    "new username. If a username has not been used, print a message saying\n",
    "that the username is available.\n",
    "• Make sure your comparison is case insensitive. If ‘Javlon’ has been used,\n",
    "‘JAVLON’ should not be accepted.'''\n",
    "\n",
    "current_users = ['Ted', 'Isabell', 'Joseph', 'Anna', 'Admin', 'Annabell', ]\n",
    "new_users = ['Jeffrey', 'Admin', 'Annabell', 'Luciana', 'ANNA', 'David', 'Joseph', 'Isabell']\n",
    "\n",
    "guest = [user.lower() for user in current_users]\n",
    "for new in new_users:\n",
    "    if new.lower() in guest:\n",
    "        print(f\"Sorry, username: {new} is not availabe. Please enter a new username!\")\n",
    "    else:\n",
    "        print(f\"Good news!, username: {new} is availabe.\")"
   ]
  },
  {
   "cell_type": "code",
   "execution_count": 3,
   "metadata": {},
   "outputs": [
    {
     "name": "stdout",
     "output_type": "stream",
     "text": [
      "I am thinking of a number between 1 and 20.\n",
      "Take a guess.\n",
      "10\n",
      "Your guess is too high.\n",
      "Take a guess.\n",
      "5\n",
      "Your guess is too high.\n",
      "Take a guess.\n",
      "3\n",
      "Your guess is too high.\n",
      "Take a guess.\n",
      "1\n",
      "Your guess is too low.\n",
      "Take a guess.\n",
      "2\n",
      "Good job! You guessed my number in 5guesses!\n"
     ]
    }
   ],
   "source": [
    "# Exercise 3\n",
    "\n",
    "# This is a guess the number game.\n",
    "import random\n",
    "secretNumber = random.randint(1, 20)\n",
    "print('I am thinking of a number between 1 and 20.')\n",
    "\n",
    "# Ask the player to guess 6 times.\n",
    "for guessesTaken in range(1, 7):\n",
    "    print('Take a guess.')\n",
    "    guess = int(input())\n",
    "\n",
    "    if guess < secretNumber:\n",
    "        print('Your guess is too low.')\n",
    "    elif guess > secretNumber:\n",
    "        print('Your guess is too high.')\n",
    "    else:\n",
    "        break    # This condition is the correct guess!\n",
    "\n",
    "if guess == secretNumber:\n",
    "    print('Good job! You guessed my number in ' + str(guessesTaken) + 'guesses!')\n",
    "else:\n",
    "    print('Nope. The number I was thinking of was ' + str(secretNumber))"
   ]
  }
 ],
 "metadata": {
  "kernelspec": {
   "display_name": "Python 3",
   "language": "python",
   "name": "python3"
  },
  "language_info": {
   "codemirror_mode": {
    "name": "ipython",
    "version": 3
   },
   "file_extension": ".py",
   "mimetype": "text/x-python",
   "name": "python",
   "nbconvert_exporter": "python",
   "pygments_lexer": "ipython3",
   "version": "3.8.5"
  }
 },
 "nbformat": 4,
 "nbformat_minor": 4
}
