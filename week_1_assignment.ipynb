{
 "cells": [
  {
   "cell_type": "code",
   "execution_count": 1,
   "metadata": {},
   "outputs": [
    {
     "name": "stdout",
     "output_type": "stream",
     "text": [
      "Calculation of the business plan of the ABC training center.\n",
      "ABC Learning Center has decided to buy the 14th floor of the \"Blue Sky\" building for its new branch.\n",
      "There are 10 classrooms on the floor and each classroom has a place for 15 students.\n",
      "Each lesson lasts 2 hours and each classroom can have 4 lessons per day.\n",
      "Each course contains 12 lessons per month, which is about 3 lesson per week.\n",
      "The Learning Center can provide a total of 80 courses in this branch.\n",
      "As a result, the new branch can accommodate 1200 students.\n",
      "The Learning Center wants to buy this floor for $1500000 from the \"Blue Sky\" building.\n",
      "The Learning Center receives a loan from the bank in the amount of $1500000,\n",
      "for 5 years with a 12% interest on the purchase of this floor.\n",
      "The learning center should hire 80 teachers and need to pay each of them $1000 per month,\n",
      "which will cost a total $80000 per month.\n",
      "The course fee costs $300 for per student.\n",
      "The net profit of the learning center would be at maximum perfomance (if 15 students in a course) $274000,\n",
      "at average perfomance (if 8 students in each course) $106000,\n",
      "at minimum perfomance (if 5 students in each course) $34000.\n",
      "ABC learning center can cover its loan in 8 months in maximum perfomance,\n",
      "in 22 months at avarage perfomance, and\n",
      "in 70 months at minimum perfomance\n",
      "\n",
      "In total, the purchase of this branch may be beneficial for the ABC ABC learning center. \n"
     ]
    }
   ],
   "source": [
    "classrooms = 10\n",
    "capacity = 15\n",
    "working_hours = 8\n",
    "lesson_duration = 2\n",
    "shifts = int(working_hours / lesson_duration)\n",
    "course_lessons = 12 \n",
    "lessons_week = int(course_lessons / 4)\n",
    "working_days = 6\n",
    "total_courses = int((working_days * shifts * classrooms) / lessons_week)\n",
    "total_students = capacity * total_courses\n",
    "\n",
    "branch_price = 1500000\n",
    "course_fee = 300\n",
    "loan_period = 5\n",
    "interest = 0.12\n",
    "\n",
    "teachers = total_courses\n",
    "wage = 1000\n",
    "total_wage = teachers * wage\n",
    "other_expenses = 6000\n",
    "\n",
    "max_students = 15\n",
    "avg_students = 8\n",
    "min_students = 5\n",
    "\n",
    "max_perfomance = ((total_courses * max_students * course_fee) - (total_wage + other_expenses))\n",
    "avg_perfomance = (total_courses * avg_students * course_fee) - (total_wage + other_expenses)\n",
    "min_perfomance = (total_courses * min_students * course_fee) - (total_wage + other_expenses)\n",
    "\n",
    "loan_cover_max = int(((branch_price + (branch_price * interest * loan_period))) / max_perfomance)\n",
    "loan_cover_avg = int(((branch_price + (branch_price * interest * loan_period))) / avg_perfomance)\n",
    "loan_cover_min = int(((branch_price + (branch_price * interest * loan_period))) / min_perfomance)\n",
    "\n",
    "print(\"Calculation of the business plan of the ABC training center.\")\n",
    "print('ABC Learning Center has decided to buy the 14th floor of the \"Blue Sky\" building for its new branch.')\n",
    "print(f\"There are {classrooms} classrooms on the floor and each classroom has a place for {capacity} students.\")\n",
    "print(f\"Each lesson lasts {lesson_duration} hours and each classroom can have {shifts} lessons per day.\")\n",
    "print(f\"Each course contains {course_lessons} lessons per month, which is about {lessons_week} lesson per week.\")\n",
    "print(f\"The Learning Center can provide a total of {total_courses} courses in this branch.\")\n",
    "print(f\"As a result, the new branch can accommodate {total_students} students.\")\n",
    "print(f'The Learning Center wants to buy this floor for ${branch_price} from the \"Blue Sky\" building.')\n",
    "print(f'''The Learning Center receives a loan from the bank in the amount of ${branch_price},\n",
    "for {loan_period} years with a 12% interest on the purchase of this floor.''')\n",
    "print(f'''The learning center should hire {teachers} teachers and need to pay each of them ${wage} per month,\n",
    "which will cost a total ${total_wage} per month.''')\n",
    "print(f\"The course fee costs ${course_fee} for per student.\")\n",
    "print(f'''The net profit of the learning center would be at maximum perfomance (if 15 students in a course) ${max_perfomance},\n",
    "at average perfomance (if 8 students in each course) ${avg_perfomance},\n",
    "at minimum perfomance (if 5 students in each course) ${min_perfomance}.''')\n",
    "print(f'''ABC learning center can cover its loan in {loan_cover_max} months in maximum perfomance,\n",
    "in {loan_cover_avg} months at avarage perfomance, and\n",
    "in {loan_cover_min} months at minimum perfomance\n",
    "''')\n",
    "print(f\"In total, the purchase of this branch may be beneficial for the ABC ABC learning center. \")"
   ]
  }
 ],
 "metadata": {
  "kernelspec": {
   "display_name": "Python 3",
   "language": "python",
   "name": "python3"
  },
  "language_info": {
   "codemirror_mode": {
    "name": "ipython",
    "version": 3
   },
   "file_extension": ".py",
   "mimetype": "text/x-python",
   "name": "python",
   "nbconvert_exporter": "python",
   "pygments_lexer": "ipython3",
   "version": "3.8.5"
  }
 },
 "nbformat": 4,
 "nbformat_minor": 4
}
