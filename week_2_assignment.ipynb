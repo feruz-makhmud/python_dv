{
 "cells": [
  {
   "cell_type": "code",
   "execution_count": 1,
   "metadata": {},
   "outputs": [
    {
     "name": "stdout",
     "output_type": "stream",
     "text": [
      "How many products do you want to buy? \n",
      "\tInput quantity of products below:\n",
      "Tea (box) : 1\n",
      "Sugar (kg) : 2\n",
      "Bread (pc) : 2\n",
      "Tomato (kg) : 4\n",
      "Cucumber (kg) : 4\n",
      "Onion (kg) : 3\n",
      "Carrot (kg) : 2\n",
      "Cooking oil (litr) : 5\n",
      "Rice (kg) : 4\n",
      "Beef (kg) : 2\n",
      "\n",
      "**** Shopping list: ****: \n",
      "1. Tea\t\t- 1 (box) \n",
      "2. Sugar\t- 2 (kg) \n",
      "3. Bread\t- 2 (pc) \n",
      "4. Tomato\t- 4 (kg) \n",
      "5. Cucumber\t- 4 (kg) \n",
      "6. Onion\t- 3 (kg) \n",
      "7. Carrot\t- 2 (kg) \n",
      "8. Cooking oil\t- 5 (litr) \n",
      "9. Rice\t\t- 4 (kg) \n",
      "10. Beef\t- 2 (kg)\n"
     ]
    }
   ],
   "source": [
    "# Shopping list version \"A\"\n",
    "\n",
    "print(\"How many products do you want to buy? \\n\\tInput quantity of products below:\")\n",
    "\n",
    "p1 = \"\\n1. Tea\\t\\t- {} (box)\"       .format(input(\"Tea (box) : \"))\n",
    "p2 = \"\\n2. Sugar\\t- {} (kg)\"        .format(input(\"Sugar (kg) : \"))\n",
    "p3 = \"\\n3. Bread\\t- {} (pc)\"        .format(input(\"Bread (pc) : \"))\n",
    "p4 = \"\\n4. Tomato\\t- {} (kg)\"       .format(input(\"Tomato (kg) : \"))\n",
    "p5 = \"\\n5. Cucumber\\t- {} (kg)\"     .format(input(\"Cucumber (kg) : \"))\n",
    "p6 = \"\\n6. Onion\\t- {} (kg)\"        .format(input(\"Onion (kg) : \"))\n",
    "p7 = \"\\n7. Carrot\\t- {} (kg)\"       .format(input(\"Carrot (kg) : \"))\n",
    "p8 = \"\\n8. Cooking oil\\t- {} (litr)\".format(input(\"Cooking oil (litr) : \"))\n",
    "p9 = \"\\n9. Rice\\t\\t- {} (kg)\"       .format(input(\"Rice (kg) : \"))\n",
    "p10 = \"\\n10. Beef\\t- {} (kg)\"       .format(input(\"Beef (kg) : \"))\n",
    "\n",
    "shopping_list =\"{} {} {} {} {} {} {} {} {} {}\"\n",
    "\n",
    "list_products = shopping_list.format( p1, p2, p3, p4, p5, p6, p7, p8, p9, p10)\n",
    "                     \n",
    "print(f\"\\n**** Shopping list: ****: {list_products}\")"
   ]
  },
  {
   "cell_type": "code",
   "execution_count": 2,
   "metadata": {},
   "outputs": [
    {
     "name": "stdout",
     "output_type": "stream",
     "text": [
      "Enter below the 10 products you want to buy: \n",
      "\t(Example: Tomatoes - 5 kg, Onion - 2 kg, ... )\n",
      "Product 1: Apple - 2 kg\n",
      "Product 2: Lemons - 3 kg\n",
      "Product 3: Bananas - 1 kg\n",
      "Product 4: Onions - 2 kg\n",
      "Product 5: Cucumber - 3 kg\n",
      "Product 6: Tomatoes - 4 kg\n",
      "Product 7: Potatoes - 5 kg\n",
      "Product 8: Sugar - 2 kg\n",
      "Product 9: Rice - 6 kg\n",
      "Product 10: Beef - 1 kg\n",
      "\n",
      "**** Shopping list: ****: \n",
      "1.Apple - 2 kg \n",
      "2.Lemons - 3 kg \n",
      "3.Bananas - 1 kg \n",
      "4.Onions - 2 kg \n",
      "5.Cucumber - 3 kg \n",
      "6.Tomatoes - 4 kg \n",
      "7.Potatoes - 5 kg \n",
      "8.Sugar - 2 kg \n",
      "9.Rice - 6 kg \n",
      "10.Beef - 1 kg\n"
     ]
    }
   ],
   "source": [
    "# Simple - manual input shopping list version \"B\"\n",
    "\n",
    "print(\"Enter below the 10 products you want to buy: \\n\\t(Example: Tomatoes - 5 kg, Onion - 2 kg, ... )\")\n",
    "\n",
    "p1 = \"\\n1.\" + input(\"Product 1: \")\n",
    "p2 = \"\\n2.\" + input(\"Product 2: \")\n",
    "p3 = \"\\n3.\" + input(\"Product 3: \")\n",
    "p4 = \"\\n4.\" + input(\"Product 4: \")\n",
    "p5 = \"\\n5.\" + input(\"Product 5: \")\n",
    "p6 = \"\\n6.\" + input(\"Product 6: \")\n",
    "p7 = \"\\n7.\" + input(\"Product 7: \")\n",
    "p8 = \"\\n8.\" + input(\"Product 8: \")\n",
    "p9 = \"\\n9.\" + input(\"Product 9: \")\n",
    "p10 = \"\\n10.\" + input(\"Product 10: \")\n",
    "\n",
    "shopping_list =\"{} {} {} {} {} {} {} {} {} {}\"\n",
    "\n",
    "list_products = shopping_list.format( p1, p2, p3, p4, p5, p6, p7, p8, p9, p10)\n",
    "\n",
    "print(f\"\\n**** Shopping list: ****: {list_products}\")"
   ]
  }
 ],
 "metadata": {
  "kernelspec": {
   "display_name": "Python 3",
   "language": "python",
   "name": "python3"
  },
  "language_info": {
   "codemirror_mode": {
    "name": "ipython",
    "version": 3
   },
   "file_extension": ".py",
   "mimetype": "text/x-python",
   "name": "python",
   "nbconvert_exporter": "python",
   "pygments_lexer": "ipython3",
   "version": "3.8.5"
  }
 },
 "nbformat": 4,
 "nbformat_minor": 4
}
