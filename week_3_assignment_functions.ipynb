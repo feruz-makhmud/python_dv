{
 "cells": [
  {
   "cell_type": "code",
   "execution_count": 1,
   "metadata": {},
   "outputs": [
    {
     "name": "stdout",
     "output_type": "stream",
     "text": [
      "Enter first number: 5\n",
      "Enter second number: 8\n",
      "\n",
      "8.0 is greater than 5.0.\n"
     ]
    }
   ],
   "source": [
    "# Function 1 - compare numbers\n",
    "\n",
    "def compare_nums(a, b):\n",
    "    if a == b:\n",
    "        print (f\"\\n{a} is equal to {b}.\")\n",
    "        \n",
    "    elif a > b:\n",
    "        print (f\"\\n{a} is greater than {b}.\")\n",
    "        \n",
    "    else:\n",
    "        print (f\"\\n{b} is greater than {a}.\")\n",
    "        \n",
    "a = float(input(\"Enter first number: \"))\n",
    "b = float(input(\"Enter second number: \"))\n",
    "\n",
    "compare_nums(a, b)"
   ]
  },
  {
   "cell_type": "code",
   "execution_count": 2,
   "metadata": {},
   "outputs": [
    {
     "name": "stdout",
     "output_type": "stream",
     "text": [
      "Enter first number: 65\n",
      "Enter second number: 25\n",
      "90.0\n"
     ]
    }
   ],
   "source": [
    "# Function 2 - adding numbers\n",
    "\n",
    "def add_nums(**nums):\n",
    "    nums_sum = num1 + num2\n",
    "    print(nums_sum)\n",
    "\n",
    "num1 = float(input(\"Enter first number: \"))\n",
    "num2 = float(input(\"Enter second number: \"))\n",
    "\n",
    "add_nums(num1 = a, num2 = b)"
   ]
  },
  {
   "cell_type": "code",
   "execution_count": 3,
   "metadata": {},
   "outputs": [
    {
     "name": "stdout",
     "output_type": "stream",
     "text": [
      "Enter first number: 5\n",
      "Enter second number: 12\n",
      "60 square meters\n"
     ]
    }
   ],
   "source": [
    "# Function 3 - Land Conversion Calculator \n",
    "\n",
    "def exponent_nums(a, b):\n",
    "    c = a * b\n",
    "    print(f\"{c} square meters\")\n",
    "\n",
    "a = int(input(\"Enter first number: \"))\n",
    "b = int(input(\"Enter second number: \"))\n",
    "\n",
    "exponent_nums(a, b)"
   ]
  },
  {
   "cell_type": "code",
   "execution_count": 4,
   "metadata": {},
   "outputs": [
    {
     "name": "stdout",
     "output_type": "stream",
     "text": [
      "Enter first number: 64\n",
      "Enter second number: 16\n",
      "6400.0\n"
     ]
    }
   ],
   "source": [
    "# Function 4 - (a+b)^2 calculations step by step\n",
    "\n",
    "def math_multiply(a, b):\n",
    "    c = (a + b)**2\n",
    "    print(c)\n",
    "\n",
    "a = float(input(\"Enter first number: \"))\n",
    "b = float(input(\"Enter second number: \"))\n",
    "\n",
    "math_multiply(a, b)"
   ]
  },
  {
   "cell_type": "code",
   "execution_count": 5,
   "metadata": {},
   "outputs": [
    {
     "name": "stdout",
     "output_type": "stream",
     "text": [
      "Enter first number: 81\n",
      "9.0\n"
     ]
    }
   ],
   "source": [
    "# Function 5 - square root\n",
    "\n",
    "def root(a):\n",
    "    b = a**(1/2)\n",
    "    print(b)\n",
    "\n",
    "a = float(input(\"Enter first number: \"))\n",
    "\n",
    "root(a)"
   ]
  },
  {
   "cell_type": "code",
   "execution_count": 6,
   "metadata": {},
   "outputs": [
    {
     "name": "stdout",
     "output_type": "stream",
     "text": [
      "Enter first number: 5\n",
      "Enter second number: 3\n",
      "5.0^3 = 125.0\n"
     ]
    }
   ],
   "source": [
    "# Function 6 - Exponents Calculator\n",
    "\n",
    "def exponent_level(a, b):\n",
    "    c = a**b\n",
    "    print(f\"{a}^{int(b)} = {c}\")\n",
    "\n",
    "a = float(input(\"Enter first number: \"))\n",
    "b = float(input(\"Enter second number: \"))\n",
    "\n",
    "exponent_level(a, b)"
   ]
  },
  {
   "cell_type": "code",
   "execution_count": 7,
   "metadata": {},
   "outputs": [
    {
     "name": "stdout",
     "output_type": "stream",
     "text": [
      "Enter first number: 32\n",
      "Enter second number: 5\n",
      "32.0^1/5 = 2.0\n"
     ]
    }
   ],
   "source": [
    "# Function 7 - Root Calculator\n",
    "\n",
    "def root_level(a, b):\n",
    "    c = a**(1/b)\n",
    "    print(f\"{a}^1/{int(b)} = {c}\")\n",
    "\n",
    "a = float(input(\"Enter first number: \"))\n",
    "b = float(input(\"Enter second number: \"))\n",
    "\n",
    "root_level(a, b)"
   ]
  },
  {
   "cell_type": "code",
   "execution_count": 8,
   "metadata": {},
   "outputs": [
    {
     "name": "stdout",
     "output_type": "stream",
     "text": [
      "Enter your weight: 77\n",
      "\n",
      "Your weight is 77 kg. Therefore you should drink about 3 litres of water every day.\n"
     ]
    }
   ],
   "source": [
    "# Function 8 - Water Calculator\n",
    "\n",
    "def water_calc(w):\n",
    "    a = w*0.033\n",
    "    b = round(a)\n",
    "    print(f\"\\nYour weight is {w} kg. Therefore you should drink about {b} litres of water every day.\")\n",
    "\n",
    "w = int(input(\"Enter your weight: \"))\n",
    "\n",
    "water_calc(w)"
   ]
  },
  {
   "cell_type": "code",
   "execution_count": 9,
   "metadata": {},
   "outputs": [
    {
     "name": "stdout",
     "output_type": "stream",
     "text": [
      "Enter your weight in kg: 77\n",
      "Enter your height in cm: 178\n",
      "\n",
      "Your Body Mass Index is 24. It is normal.\n"
     ]
    }
   ],
   "source": [
    "# Function 9 - Body Mass Index Calculator\n",
    "\n",
    "def body_calc(a, b):\n",
    "    c = a / (b/100)**2    \n",
    "    if c >= 25.0:\n",
    "        print(f\"\\nYour Body Mass Index is {round(c)}. It is overweight.\")\n",
    "    elif c <= 24.9 and c >= 18.5:\n",
    "        print(f\"\\nYour Body Mass Index is {round(c)}. It is normal.\")\n",
    "    else:\n",
    "        print(f\"\\nYour Body Mass Index is {round(c)}. It is lower than normal.\")\n",
    "\n",
    "a = float(input(\"Enter your weight in kg: \"))\n",
    "b = float(input(\"Enter your height in cm: \"))\n",
    "\n",
    "body_calc(a, b)"
   ]
  },
  {
   "cell_type": "code",
   "execution_count": 10,
   "metadata": {},
   "outputs": [
    {
     "name": "stdout",
     "output_type": "stream",
     "text": [
      "If you want convert Fahrenheit to Celsius type F, otherwise type C \n",
      " method weather conversion: c\n",
      "Enter a temperature in Celsius: 0\n",
      "0 in Celsius (°C) is equal to 32 Fahrenheit (°F)\n"
     ]
    }
   ],
   "source": [
    "# Function 10 - weather conversion\n",
    "\n",
    "def weather_conversion():\n",
    "    if method == \"f\" or method == \"F\":\n",
    "            a = int(input(\"Enter a temperature in Fahrenheit: \"))\n",
    "            b = (a - 32)/1.8\n",
    "            print(f\"{a} Fahrenheit (°F) is equal to {round(b)} Celsius (°C)\")\n",
    "    \n",
    "    elif method == \"c\" or method == \"C\":\n",
    "            a = int(input(\"Enter a temperature in Celsius: \"))\n",
    "            b = (1.8*a + 32)\n",
    "            print(f\"{a} in Celsius (°C) is equal to {round(b)} Fahrenheit (°F)\")\n",
    "    \n",
    "    else:\n",
    "        print(\"Undefined method\")\n",
    "\n",
    "method = input(\"If you want convert Fahrenheit to Celsius type F, otherwise type C \\n method weather conversion: \")\n",
    "\n",
    "weather_conversion()"
   ]
  }
 ],
 "metadata": {
  "kernelspec": {
   "display_name": "Python 3",
   "language": "python",
   "name": "python3"
  },
  "language_info": {
   "codemirror_mode": {
    "name": "ipython",
    "version": 3
   },
   "file_extension": ".py",
   "mimetype": "text/x-python",
   "name": "python",
   "nbconvert_exporter": "python",
   "pygments_lexer": "ipython3",
   "version": "3.8.5"
  }
 },
 "nbformat": 4,
 "nbformat_minor": 4
}
